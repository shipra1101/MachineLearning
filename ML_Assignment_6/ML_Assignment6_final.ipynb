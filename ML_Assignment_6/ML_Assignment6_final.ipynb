{
 "cells": [
  {
   "cell_type": "code",
   "execution_count": 8,
   "metadata": {},
   "outputs": [
    {
     "name": "stdout",
     "output_type": "stream",
     "text": [
      "Policy[ 0 -1  1  1  0]\n",
      "Q values: \n",
      " [[0.  1.  0.  0.  0. ]\n",
      " [0.  0.  0.1 2.  0. ]]\n"
     ]
    }
   ],
   "source": [
    "import numpy as np\n",
    "import random\n",
    "import tensorflow as tf\n",
    "from numpy import linalg as LA\n",
    "\n",
    "def tau(s,a):\n",
    "    if s==0 or s==4:  return(s)\n",
    "    else:      return(s+a)\n",
    "def rho(s,a):\n",
    "    return(s==1 and a==0)+2*(s==3 and a==1)\n",
    "def calc_policy(Q):\n",
    "    policy=np.zeros(5)\n",
    "    for s in range(0,5):\n",
    "        action_idx=np.argmax(Q[s,:])\n",
    "        policy[s]=2*action_idx-1\n",
    "        policy[0]=policy[4]=0\n",
    "    return policy.astype(int)\n",
    "def idx(a):\n",
    "    return(int((a+1)/2))\n",
    "\n",
    "inputs = tf.placeholder(shape=[1,5],dtype=tf.float32)\n",
    "W = tf.Variable(tf.random_uniform([5,2],0,0.01))\n",
    "Qout = tf.matmul(inputs,W)\n",
    "predict = tf.argmax(Qout,1)    \n",
    "nextQ = tf.placeholder(shape=[1,2],dtype=tf.float32)\n",
    "loss = tf.reduce_sum(tf.square(nextQ - Qout))\n",
    "trainer = tf.train.GradientDescentOptimizer(learning_rate=0.1)\n",
    "updateModel = trainer.minimize(loss)\n",
    "\n",
    "init = tf.global_variables_initializer()\n",
    "\n",
    "y = 0.03\n",
    "e = 0.1\n",
    "epi_num = 1000\n",
    "with tf.Session() as sess:\n",
    "    sess.run(init)\n",
    "    for i in range(epi_num):\n",
    "        s = np.random.randint(0,5)\n",
    "        j = 0\n",
    "        while j < 5: \n",
    "            a,Qall = sess.run([predict,Qout],feed_dict={inputs:np.identity(5)[s:s+1]})\n",
    "            s_new = tau(s,a[0])\n",
    "            Q1 = sess.run(Qout,feed_dict={inputs:np.identity(5)[s_new:s_new+1]})\n",
    "            maxQ1 = np.max(Q1)\n",
    "            targetQ = Qall \n",
    "            r = rho(s,a[0])\n",
    "            targetQ[0,a[0]] = r + y*maxQ1\n",
    "            sess.run([updateModel,W],feed_dict={inputs:np.identity(5)[s:s+1],nextQ:targetQ})\n",
    "            s = s_new\n",
    "            j+=1\n",
    "    result = sess.run(W)\n",
    "    policy = calc_policy(tf.global_variables()[0].eval())\n",
    "    print('Policy'+str(policy))\n",
    "    print('Q values: \\n',np.transpose(np.around(result, decimals=1)))\n"
   ]
  },
  {
   "cell_type": "code",
   "execution_count": null,
   "metadata": {},
   "outputs": [],
   "source": []
  }
 ],
 "metadata": {
  "kernelspec": {
   "display_name": "Python 3",
   "language": "python",
   "name": "python3"
  },
  "language_info": {
   "codemirror_mode": {
    "name": "ipython",
    "version": 3
   },
   "file_extension": ".py",
   "mimetype": "text/x-python",
   "name": "python",
   "nbconvert_exporter": "python",
   "pygments_lexer": "ipython3",
   "version": "3.6.4"
  }
 },
 "nbformat": 4,
 "nbformat_minor": 2
}
